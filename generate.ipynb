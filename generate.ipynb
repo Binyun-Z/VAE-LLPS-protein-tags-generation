{
 "cells": [
  {
   "cell_type": "code",
   "execution_count": 2,
   "metadata": {},
   "outputs": [
    {
     "name": "stdout",
     "output_type": "stream",
     "text": [
      "Model loaded from checkpoints/2023-May-04-01:31:07/E999.pytorch\n",
      "Traceback (most recent call last):\n",
      "  File \"inference2.py\", line 80, in <module>\n",
      "    main(args)\n",
      "  File \"inference2.py\", line 44, in main\n",
      "    samples, z = model.inference(n=args.num_samples)\n",
      "  File \"/home/bli/Binyun/Generation/LLPS-label-generate/models/model.py\", line 155, in inference\n",
      "    output, hidden = self.decoder_rnn(input_embedding, hidden)\n",
      "  File \"/home/bli/.conda/envs/Xihe/lib/python3.8/site-packages/torch/nn/modules/module.py\", line 889, in _call_impl\n",
      "    result = self.forward(*input, **kwargs)\n",
      "  File \"/home/bli/.conda/envs/Xihe/lib/python3.8/site-packages/torch/nn/modules/rnn.py\", line 819, in forward\n",
      "    self.check_forward_args(input, hx, batch_sizes)\n",
      "  File \"/home/bli/.conda/envs/Xihe/lib/python3.8/site-packages/torch/nn/modules/rnn.py\", line 229, in check_forward_args\n",
      "    self.check_hidden_size(hidden, expected_hidden_size)\n",
      "  File \"/home/bli/.conda/envs/Xihe/lib/python3.8/site-packages/torch/nn/modules/rnn.py\", line 223, in check_hidden_size\n",
      "    raise RuntimeError(msg.format(expected_hidden_size, list(hx.size())))\n",
      "RuntimeError: Expected hidden size (2, 10, 256), got [1, 2, 10, 256]\n"
     ]
    }
   ],
   "source": [
    "!  python inference2.py -c checkpoints/2023-May-04-01:31:07/E999.pytorch -n 10"
   ]
  },
  {
   "cell_type": "code",
   "execution_count": null,
   "metadata": {},
   "outputs": [],
   "source": []
  }
 ],
 "metadata": {
  "kernelspec": {
   "display_name": "Xihe",
   "language": "python",
   "name": "python3"
  },
  "language_info": {
   "codemirror_mode": {
    "name": "ipython",
    "version": 3
   },
   "file_extension": ".py",
   "mimetype": "text/x-python",
   "name": "python",
   "nbconvert_exporter": "python",
   "pygments_lexer": "ipython3",
   "version": "3.8.12"
  },
  "orig_nbformat": 4
 },
 "nbformat": 4,
 "nbformat_minor": 2
}
